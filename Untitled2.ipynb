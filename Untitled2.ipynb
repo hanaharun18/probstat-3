{
 "cells": [
  {
   "cell_type": "code",
   "execution_count": 2,
   "id": "94c03ddb-4f3b-41e7-94e7-c8a9be253d5e",
   "metadata": {},
   "outputs": [
    {
     "name": "stdout",
     "output_type": "stream",
     "text": [
      "Probabilitas P(X=k) untuk distribusi binomial: 0.1171875\n"
     ]
    }
   ],
   "source": [
    "# Hana Zalfa Azizah - 064102400007\n",
    "\n",
    "import math\n",
    "\n",
    "# Fungsi untuk menghitung kombinasi (n choose k)\n",
    "def n_choose_k(n, k):\n",
    "    return math.factorial(n) / (math.factorial(k) * math.factorial(n - k))\n",
    "\n",
    "# Fungsi untuk menghitung probabilitas P(X=k) dalam distribusi binomial\n",
    "def binomial_probability(n, p, k):\n",
    "    return n_choose_k(n, k) * (p**k) * ((1 - p)**(n - k))\n",
    "\n",
    "# Parameter distribusi binomial\n",
    "n = 10  # jumlah percobaan\n",
    "p = 0.5  # jumlah keberhasilan dalam satu percobaan\n",
    "k = 3    # jumlah keberhasilan yang diinginkan\n",
    "\n",
    "# Menghitung probabilitas P(X=k) untuk distribusi binomial\n",
    "prob_binomial = binomial_probability(n, p, k)\n",
    "print(\"Probabilitas P(X=k) untuk distribusi binomial:\", prob_binomial)\n"
   ]
  },
  {
   "cell_type": "code",
   "execution_count": 8,
   "id": "174070f8-a903-43f1-a25b-ff67b1df9e64",
   "metadata": {},
   "outputs": [
    {
     "name": "stdout",
     "output_type": "stream",
     "text": [
      "Probabilitas P(X=k) untuk distribusi binomial: 0.1171875\n"
     ]
    }
   ],
   "source": [
    "# Hana Zalfa Azizah - 064102400007\n",
    "\n",
    "from scipy.stats import binom\n",
    "\n",
    "# Distribusi Binomial\n",
    "n = 10  # jumlah percobaan\n",
    "p = 0.5 # probabilitas keberhasilan dalam satu percobaan\n",
    "k = 3   # jumlah keberhasilan yang diragukan\n",
    "\n",
    "prob_binomial = binom.pmf(k, n, p)\n",
    "print(\"Probabilitas P(X=k) untuk distribusi binomial:\", prob_binomial)"
   ]
  },
  {
   "cell_type": "code",
   "execution_count": 10,
   "id": "06fa192f-0465-44c7-9dd5-05ac02d00e16",
   "metadata": {},
   "outputs": [
    {
     "name": "stdout",
     "output_type": "stream",
     "text": [
      "Probabilitas P(X=k) untuk distribusi Poisson: 0.22404180765538775\n"
     ]
    }
   ],
   "source": [
    "# Hana Zalfa Azizah - 064102400007\n",
    "\n",
    "import math\n",
    "\n",
    "# Fungsi untuk menghitung probabilitas P(X=k) dalam distribusi Poisson\n",
    "def poisson_probability(lambd, k):\n",
    "    return (lambd ** k) * math.exp(-lambd) / math.factorial(k)\n",
    "\n",
    "# Parameter distribusi Poisson\n",
    "lambd = 3  # rata-rata jumlah peristiwa dalam waktu/ruang tertentu\n",
    "k = 2      # jumlah peristiwa yang diinginkan\n",
    "\n",
    "# Menghitung probabilitas P(X=k) untuk distribusi Poisson\n",
    "prob_poisson = poisson_probability(lambd, k)\n",
    "print(\"Probabilitas P(X=k) untuk distribusi Poisson:\", prob_poisson)# Hana Zalfa Azizah - 064102400007\n",
    "\n",
    "from scipy.stats import poisson\n",
    "\n",
    "# Distribusi Poisson\n",
    "lambd = 3  # rata-rata jumlah peristiwa dalam interval waktu/titik\n",
    "k = 2      # jumlah peristiwa yang diinginkan\n",
    "\n",
    "prob_poisson = poisson.pmf(k, lambd)\n",
    "print(\"Probabilitas P(X=k) untuk distribusi Poisson:\", prob_poisson)\n",
    "\n",
    "# Output:\n",
    "# Probabilitas P(X=k) untuk distribusi Poisson: 0.22404180765538775\n"
   ]
  },
  {
   "cell_type": "code",
   "execution_count": 12,
   "id": "0b23d0c7-4285-4f9a-a777-a8dc78d7453b",
   "metadata": {},
   "outputs": [
    {
     "name": "stdout",
     "output_type": "stream",
     "text": [
      "Probabilitas P(X=k) untuk distribusi Poisson: 0.22404180765538775\n"
     ]
    }
   ],
   "source": [
    "# Hana Zalfa Azizah - 064102400007\n",
    "\n",
    "from scipy.stats import poisson\n",
    "\n",
    "# Distribusi Poisson\n",
    "lambd = 3  # rata-rata jumlah peristiwa dalam interval waktu/titik\n",
    "k = 2      # jumlah peristiwa yang diinginkan\n",
    "\n",
    "prob_poisson = poisson.pmf(k, lambd)\n",
    "print(\"Probabilitas P(X=k) untuk distribusi Poisson:\", prob_poisson)"
   ]
  },
  {
   "cell_type": "code",
   "execution_count": 14,
   "id": "4f517d59-6f21-4556-8aad-cb92b5c76e38",
   "metadata": {},
   "outputs": [
    {
     "name": "stdout",
     "output_type": "stream",
     "text": [
      "0.1285054390988551\n"
     ]
    }
   ],
   "source": [
    "# Hana Zalfa Azizah - 064102400007\n",
    "\n",
    "from scipy import stats\n",
    "X = stats.binom(15, 0.1)\n",
    "print(X.pmf(3))  # p(X=3)"
   ]
  },
  {
   "cell_type": "code",
   "execution_count": 16,
   "id": "3ea39225-acd1-43f1-b701-10b7dec8818c",
   "metadata": {},
   "outputs": [
    {
     "name": "stdout",
     "output_type": "stream",
     "text": [
      "0.8159389308936089\n"
     ]
    }
   ],
   "source": [
    "# Hana Zalfa Azizah - 064102400007\n",
    "\n",
    "print(X.cdf(2))  # p(X <= 2)"
   ]
  },
  {
   "cell_type": "code",
   "execution_count": 22,
   "id": "f44ae53d-c9fc-484c-aaa4-789bb929cab5",
   "metadata": {},
   "outputs": [
    {
     "name": "stdout",
     "output_type": "stream",
     "text": [
      "0.002216045197080002\n"
     ]
    }
   ],
   "source": [
    "# Hana Zalfa Azizah - 064102400007\n",
    "\n",
    "print(X.pmf(6) + X.pmf(7))"
   ]
  },
  {
   "cell_type": "code",
   "execution_count": 20,
   "id": "69578474-6620-4c7d-b27e-4c15aaff790e",
   "metadata": {},
   "outputs": [
    {
     "ename": "NameError",
     "evalue": "name 'x' is not defined",
     "output_type": "error",
     "traceback": [
      "\u001b[1;31m---------------------------------------------------------------------------\u001b[0m",
      "\u001b[1;31mNameError\u001b[0m                                 Traceback (most recent call last)",
      "Cell \u001b[1;32mIn[20], line 3\u001b[0m\n\u001b[0;32m      1\u001b[0m \u001b[38;5;66;03m# Hana Zalfa Azizah - 064102400007\u001b[39;00m\n\u001b[1;32m----> 3\u001b[0m \u001b[38;5;28mprint\u001b[39m(x\u001b[38;5;241m.\u001b[39mpmf(\u001b[38;5;241m6\u001b[39m) \u001b[38;5;241m+\u001b[39m x\u001b[38;5;241m.\u001b[39mpmf(\u001b[38;5;241m7\u001b[39m))\n",
      "\u001b[1;31mNameError\u001b[0m: name 'x' is not defined"
     ]
    }
   ],
   "source": [
    "# Hana Zalfa Azizah - 064102400007\n",
    "\n",
    "print(x.pmf(6) + x.pmf(7))\n",
    "\n",
    "# Output:\n",
    "# 0.0022160451978080023\n"
   ]
  },
  {
   "cell_type": "code",
   "execution_count": 24,
   "id": "b88b2a0e-0c49-42ab-b470-f5a0b0685510",
   "metadata": {},
   "outputs": [
    {
     "name": "stdout",
     "output_type": "stream",
     "text": [
      "0.17546736976785063\n"
     ]
    }
   ],
   "source": [
    "# Hana Zalfa Azizah - 064102400007\n",
    "\n",
    "from scipy import stats\n",
    "\n",
    "Y = stats.poisson(5)\n",
    "print(Y.pmf(4))  # P(Y=4)"
   ]
  },
  {
   "cell_type": "code",
   "execution_count": 30,
   "id": "8db52fab-9b92-4147-86c5-9cae90b1a00d",
   "metadata": {},
   "outputs": [
    {
     "name": "stdout",
     "output_type": "stream",
     "text": [
      "0.17886305056987967\n"
     ]
    }
   ],
   "source": [
    "# Hana Zalfa Azizah - 064102400007\n",
    "\n",
    "from scipy import stats\n",
    "\n",
    "# Mendefinisikan variabel X sebagai distribusi binomial dengan 20 percobaan dan probabilitas sukses 0.1\n",
    "X = stats.binom(20, 0.7)\n",
    "\n",
    "# Menghitung probabilitas massa X sama dengan 3\n",
    "pmf_15 = X.pmf(15)\n",
    "\n",
    "# Mencetak nilai probabilitas\n",
    "print(pmf_15)"
   ]
  },
  {
   "cell_type": "code",
   "execution_count": 28,
   "id": "610820ff-ce5e-441d-9e51-c39de11b51c5",
   "metadata": {},
   "outputs": [
    {
     "name": "stdout",
     "output_type": "stream",
     "text": [
      "0.18044704431548356\n"
     ]
    }
   ],
   "source": [
    "# Hana Zalfa Azizah - 064102400007\n",
    "\n",
    "from scipy import stats\n",
    "\n",
    "Y = stats.poisson(2)\n",
    "print(Y.pmf(3))  # P(Y=3)"
   ]
  },
  {
   "cell_type": "code",
   "execution_count": 32,
   "id": "560e262a-9f06-4a2d-b4ab-7bca6531afb1",
   "metadata": {},
   "outputs": [
    {
     "name": "stdout",
     "output_type": "stream",
     "text": [
      "0.20613038097752082\n"
     ]
    }
   ],
   "source": [
    "# Hana Zalfa Azizah - 064102400007\n",
    "import math\n",
    "from math import comb\n",
    "\n",
    "n = 15\n",
    "p = 0.3\n",
    "k = 5\n",
    "\n",
    "# Menghitung P(X = 5) secara manual\n",
    "prob = comb(n, k) * (p**k) * ((1-p)**(n-k))\n",
    "print(prob)\n"
   ]
  },
  {
   "cell_type": "code",
   "execution_count": null,
   "id": "a8488bf5-3d76-44a0-8d85-e0eecf5f5767",
   "metadata": {},
   "outputs": [],
   "source": []
  }
 ],
 "metadata": {
  "kernelspec": {
   "display_name": "Python [conda env:base] *",
   "language": "python",
   "name": "conda-base-py"
  },
  "language_info": {
   "codemirror_mode": {
    "name": "ipython",
    "version": 3
   },
   "file_extension": ".py",
   "mimetype": "text/x-python",
   "name": "python",
   "nbconvert_exporter": "python",
   "pygments_lexer": "ipython3",
   "version": "3.12.7"
  }
 },
 "nbformat": 4,
 "nbformat_minor": 5
}
